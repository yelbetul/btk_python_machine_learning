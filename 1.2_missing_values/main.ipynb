{
 "cells": [
  {
   "cell_type": "code",
   "execution_count": 2,
   "metadata": {},
   "outputs": [],
   "source": [
    "import pandas as pd\n",
    "import numpy as np"
   ]
  },
  {
   "cell_type": "code",
   "execution_count": 3,
   "metadata": {},
   "outputs": [],
   "source": [
    "veriler = pd.read_csv('eksikveriler.csv')"
   ]
  },
  {
   "cell_type": "code",
   "execution_count": 4,
   "metadata": {},
   "outputs": [],
   "source": [
    "from sklearn.impute import SimpleImputer"
   ]
  },
  {
   "cell_type": "code",
   "execution_count": 6,
   "metadata": {},
   "outputs": [],
   "source": [
    "imputer = SimpleImputer(missing_values = np.nan, strategy= 'mean')"
   ]
  },
  {
   "cell_type": "code",
   "execution_count": 7,
   "metadata": {},
   "outputs": [
    {
     "data": {
      "text/plain": [
       "array([[130.,  30.,  10.],\n",
       "       [125.,  36.,  11.],\n",
       "       [135.,  34.,  10.],\n",
       "       [133.,  30.,   9.],\n",
       "       [129.,  38.,  12.],\n",
       "       [180.,  90.,  30.],\n",
       "       [190.,  80.,  25.],\n",
       "       [175.,  90.,  35.],\n",
       "       [177.,  60.,  22.],\n",
       "       [185., 105.,  33.],\n",
       "       [165.,  55.,  27.],\n",
       "       [155.,  50.,  44.],\n",
       "       [160.,  58.,  nan],\n",
       "       [162.,  59.,  41.],\n",
       "       [167.,  62.,  55.],\n",
       "       [174.,  70.,  47.],\n",
       "       [193.,  90.,  nan],\n",
       "       [187.,  80.,  27.],\n",
       "       [183.,  88.,  28.],\n",
       "       [159.,  40.,  29.],\n",
       "       [164.,  66.,  32.],\n",
       "       [166.,  56.,  42.]])"
      ]
     },
     "execution_count": 7,
     "metadata": {},
     "output_type": "execute_result"
    }
   ],
   "source": [
    "Yas = veriler.iloc[:,1:4].values\n",
    "Yas"
   ]
  },
  {
   "cell_type": "code",
   "execution_count": null,
   "metadata": {},
   "outputs": [],
   "source": []
  }
 ],
 "metadata": {
  "kernelspec": {
   "display_name": "Python 3",
   "language": "python",
   "name": "python3"
  },
  "language_info": {
   "codemirror_mode": {
    "name": "ipython",
    "version": 3
   },
   "file_extension": ".py",
   "mimetype": "text/x-python",
   "name": "python",
   "nbconvert_exporter": "python",
   "pygments_lexer": "ipython3",
   "version": "3.11.4"
  }
 },
 "nbformat": 4,
 "nbformat_minor": 2
}
